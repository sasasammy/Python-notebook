{
 "cells": [
  {
   "cell_type": "code",
   "execution_count": 1,
   "metadata": {},
   "outputs": [
    {
     "name": "stdout",
     "output_type": "stream",
     "text": [
      "  2           0 LOAD_CONST               1 (1)\n",
      "              2 LOAD_CONST               2 (2)\n",
      "              4 LOAD_CONST               3 (3)\n",
      "              6 LOAD_CONST               4 (4)\n",
      "              8 LOAD_CONST               5 (5)\n",
      "             10 LOAD_CONST               6 (6)\n",
      "             12 LOAD_CONST               7 (7)\n",
      "             14 LOAD_CONST               8 (8)\n",
      "             16 LOAD_CONST               9 (9)\n",
      "             18 BUILD_LIST               9\n",
      "             20 STORE_FAST               0 (x)\n",
      "\n",
      "  3          22 LOAD_FAST                0 (x)\n",
      "             24 LOAD_CONST               2 (2)\n",
      "             26 BINARY_SUBSCR\n",
      "             28 STORE_FAST               1 (y)\n",
      "             30 LOAD_CONST               0 (None)\n",
      "             32 RETURN_VALUE\n"
     ]
    }
   ],
   "source": [
    "def a():\n",
    "    x=[1,2,3,4,5,6,7,8,9]\n",
    "    y=x[2]\n",
    "    \n",
    "def b():\n",
    "    x=(1,2,3,4,5,6,7,8,9,10,11,12)\n",
    "    y=x[2]\n",
    "    \n",
    "import dis\n",
    "\n",
    "dis.dis(a)\n"
   ]
  },
  {
   "cell_type": "code",
   "execution_count": 2,
   "metadata": {},
   "outputs": [
    {
     "name": "stdout",
     "output_type": "stream",
     "text": [
      "  6           0 LOAD_CONST              13 ((1, 2, 3, 4, 5, 6, 7, 8, 9, 10, 11, 12))\n",
      "              2 STORE_FAST               0 (x)\n",
      "\n",
      "  7           4 LOAD_FAST                0 (x)\n",
      "              6 LOAD_CONST               2 (2)\n",
      "              8 BINARY_SUBSCR\n",
      "             10 STORE_FAST               1 (y)\n",
      "             12 LOAD_CONST               0 (None)\n",
      "             14 RETURN_VALUE\n"
     ]
    }
   ],
   "source": [
    "dis.dis(b)"
   ]
  },
  {
   "cell_type": "code",
   "execution_count": 5,
   "metadata": {},
   "outputs": [
    {
     "name": "stdout",
     "output_type": "stream",
     "text": [
      "[['spam', 'egg', 'milk', 'bread'], 'spam', 'egg', 'milk', 'bread']\n"
     ]
    }
   ],
   "source": [
    "import pprint\n",
    "stuff = ['spam', 'egg', 'milk', 'bread']\n",
    "stuff.insert(0, stuff[:])\n",
    "pp = pprint.PrettyPrinter(indent = 4)\n",
    "pp.pprint(stuff)"
   ]
  },
  {
   "cell_type": "code",
   "execution_count": null,
   "metadata": {},
   "outputs": [],
   "source": []
  }
 ],
 "metadata": {
  "kernelspec": {
   "display_name": "Python 3",
   "language": "python",
   "name": "python3"
  },
  "language_info": {
   "codemirror_mode": {
    "name": "ipython",
    "version": 3
   },
   "file_extension": ".py",
   "mimetype": "text/x-python",
   "name": "python",
   "nbconvert_exporter": "python",
   "pygments_lexer": "ipython3",
   "version": "3.6.3"
  }
 },
 "nbformat": 4,
 "nbformat_minor": 2
}
